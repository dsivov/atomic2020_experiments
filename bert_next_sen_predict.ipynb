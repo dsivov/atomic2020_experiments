{
 "cells": [
  {
   "cell_type": "code",
   "execution_count": 1,
   "id": "1f1d5bb5-2c5b-41d1-bcbb-070794490221",
   "metadata": {
    "execution": {
     "iopub.execute_input": "2022-05-02T11:33:11.378832Z",
     "iopub.status.busy": "2022-05-02T11:33:11.378387Z",
     "iopub.status.idle": "2022-05-02T11:33:46.468830Z",
     "shell.execute_reply": "2022-05-02T11:33:46.467938Z",
     "shell.execute_reply.started": "2022-05-02T11:33:11.378725Z"
    }
   },
   "outputs": [
    {
     "name": "stderr",
     "output_type": "stream",
     "text": [
      "/notebooks/pipenv/tqdm/auto.py:22: TqdmWarning: IProgress not found. Please update jupyter and ipywidgets. See https://ipywidgets.readthedocs.io/en/stable/user_install.html\n",
      "  from .autonotebook import tqdm as notebook_tqdm\n",
      "Downloading: 100%|██████████| 226k/226k [00:00<00:00, 7.81MB/s]\n",
      "Downloading: 100%|██████████| 28.0/28.0 [00:00<00:00, 17.2kB/s]\n",
      "Downloading: 100%|██████████| 570/570 [00:00<00:00, 276kB/s]\n",
      "Downloading: 100%|██████████| 420M/420M [00:18<00:00, 23.5MB/s] \n",
      "Some weights of the model checkpoint at bert-base-uncased were not used when initializing BertForNextSentencePrediction: ['cls.predictions.transform.dense.weight', 'cls.predictions.transform.LayerNorm.bias', 'cls.predictions.transform.dense.bias', 'cls.predictions.transform.LayerNorm.weight', 'cls.predictions.bias', 'cls.predictions.decoder.weight']\n",
      "- This IS expected if you are initializing BertForNextSentencePrediction from the checkpoint of a model trained on another task or with another architecture (e.g. initializing a BertForSequenceClassification model from a BertForPreTraining model).\n",
      "- This IS NOT expected if you are initializing BertForNextSentencePrediction from the checkpoint of a model that you expect to be exactly identical (initializing a BertForSequenceClassification model from a BertForSequenceClassification model).\n"
     ]
    }
   ],
   "source": [
    "import sys\n",
    "sys.path.insert(0, \"/notebooks/pipenv\")\n",
    "sys.path.insert(0, \"/notebooks/nebula3_database\")\n",
    "from torch.nn.functional import softmax\n",
    "from transformers import BertTokenizer, BertForNextSentencePrediction\n",
    "import torch\n",
    "import random\n",
    "import csv\n",
    "\n",
    "tokenizer = BertTokenizer.from_pretrained('bert-base-uncased')\n",
    "model = BertForNextSentencePrediction.from_pretrained('bert-base-uncased')\n",
    "device = \"cuda:0\"\n",
    "model = model.to(device)\n",
    "\n",
    "#story_one = [\"Karen was assigned a roommate her first year of college.\", \"Her roommate asked her to go to a nearby city for a concert.\", \"Karen agreed happily.\", \"The show was absolutely exhilarating.\", \"Karen became good friends with her roommate.\"]"
   ]
  },
  {
   "cell_type": "code",
   "execution_count": null,
   "id": "5169eab7-b4ea-434a-89ba-46ac2f3e16d1",
   "metadata": {},
   "outputs": [],
   "source": [
    "stories = []\n",
    "with open(\"100KStories.csv\") as file:\n",
    "    tsv_file = csv.reader(file, delimiter=\",\")\n",
    "    for line in tsv_file:\n",
    "        #print(line)\n",
    "        line.pop(0)\n",
    "        #print(line)\n",
    "        line.pop(0)\n",
    "        stories.append(line)"
   ]
  },
  {
   "cell_type": "code",
   "execution_count": 19,
   "id": "3e4062b5-d5b6-4037-a76e-0c5175a46f9f",
   "metadata": {
    "execution": {
     "iopub.execute_input": "2022-05-02T12:21:36.020427Z",
     "iopub.status.busy": "2022-05-02T12:21:36.020178Z",
     "iopub.status.idle": "2022-05-02T12:21:36.862003Z",
     "shell.execute_reply": "2022-05-02T12:21:36.861322Z",
     "shell.execute_reply.started": "2022-05-02T12:21:36.020402Z"
    }
   },
   "outputs": [],
   "source": [
    "shuf_stories = []\n",
    "for orig_story in stories:\n",
    "    #print (\"BEFORE: \", orig_story)\n",
    "    sent1_replaced = random.randint(0, 4)\n",
    "    sent2_replaced = random.randint(0, 4)\n",
    "    sent3_replaced = random.randint(0, 4)\n",
    "    story1_replace = random.randint(0, len(stories) -1)\n",
    "    story2_replace = random.randint(0, len(stories) -1)\n",
    "    story3_replace = random.randint(0, len(stories) -1)\n",
    "    orig_story[sent1_replaced] = stories[story1_replace][0]\n",
    "    orig_story[sent2_replaced] = stories[story2_replace][1]\n",
    "    orig_story[sent3_replaced] = stories[story3_replace][2]\n",
    "    #print (\"AFTER: \", orig_story)\n",
    "    shuf_stories.append(orig_story)"
   ]
  },
  {
   "cell_type": "code",
   "execution_count": 3,
   "id": "a106b6cc-e797-4f9f-bb17-c0a5400fc90e",
   "metadata": {
    "execution": {
     "iopub.execute_input": "2022-05-02T11:33:47.037442Z",
     "iopub.status.busy": "2022-05-02T11:33:47.037245Z",
     "iopub.status.idle": "2022-05-02T11:33:47.047631Z",
     "shell.execute_reply": "2022-05-02T11:33:47.046637Z",
     "shell.execute_reply.started": "2022-05-02T11:33:47.037418Z"
    }
   },
   "outputs": [],
   "source": [
    "def compat_three(s1, s2, s3):\n",
    "    sent_a = s1+\" \"+s2\n",
    "    sent_b = s2+\" \"+s3\n",
    "    encoded = tokenizer.encode_plus(sent_a, s3, return_tensors='pt').to(device)\n",
    "    seq_relationship_logits = model(**encoded)[0]\n",
    "    probs = softmax(seq_relationship_logits, dim=1)\n",
    "    compt1 = probs[0][0].tolist()\n",
    "    encoded = tokenizer.encode_plus(s1, sent_b, return_tensors='pt').to(device)\n",
    "    seq_relationship_logits = model(**encoded)[0]\n",
    "    probs = softmax(seq_relationship_logits, dim=1)\n",
    "    compt2 = probs[0][0].tolist()\n",
    "    return compt1*compt2\n",
    "\n",
    "\n",
    "def story_compatability(story):\n",
    "    result = 1.\n",
    "    for i in range(len(story)-1):\n",
    "        sent_a = story[i]\n",
    "        sent_b = story[i+1]\n",
    "        encoded = tokenizer.encode_plus(sent_a, sent_b, return_tensors='pt').to(device)\n",
    "        seq_relationship_logits = model(**encoded)[0]\n",
    "        probs = softmax(seq_relationship_logits, dim=1)\n",
    "        compt = probs[0][0].tolist()\n",
    "        result *= compt\n",
    "    return result\n",
    "\n",
    "\n",
    "def story_compatability_3(story):\n",
    "    result = 1.\n",
    "    for i in range(len(story)-2):\n",
    "        sent_a = story[i]\n",
    "        sent_b = story[i+1]\n",
    "        sent_c = story[i+2]\n",
    "        compt = compat_three(sent_a,sent_b,sent_c)\n",
    "        result *= compt\n",
    "    return result"
   ]
  },
  {
   "cell_type": "code",
   "execution_count": null,
   "id": "f77b56af-6528-4859-b6fc-875b9dae2cdd",
   "metadata": {},
   "outputs": [],
   "source": [
    "    "
   ]
  },
  {
   "cell_type": "code",
   "execution_count": null,
   "id": "756abf53-c29b-4a02-b953-e9700f4c3e46",
   "metadata": {
    "execution": {
     "iopub.execute_input": "2022-05-02T13:07:50.464194Z",
     "iopub.status.busy": "2022-05-02T13:07:50.463892Z"
    }
   },
   "outputs": [
    {
     "name": "stderr",
     "output_type": "stream",
     "text": [
      "  0%|          | 284/98166 [00:45<4:10:56,  6.50it/s]"
     ]
    }
   ],
   "source": [
    "from tqdm import tqdm\n",
    "result1 = 0\n",
    "result2 = 0\n",
    "for story_one in tqdm(shuf_stories[:(len(stories) -1)]):\n",
    "    #print(\"Story \", story_one)\n",
    "    #input()\n",
    "    #shuf_story = story_one.copy()\n",
    "    #random.shuffle(shuf_story)\n",
    "    prob1 = story_compatability(story_one)\n",
    "    #if prob1 < 0.1:\n",
    "        #print(\"PROB1 \", story_one, \" \", prob1)\n",
    "    #print(prob)\n",
    "    #shuf_prob = story_compatability(shuf_story)\n",
    "    #print(shuf_prob)\n",
    "    prob2 = story_compatability_3(story_one)\n",
    "    #if prob2 < 0.1:\n",
    "        #print(\"PROB2 \", story_one, \" \", prob2)\n",
    "    result1 += prob1\n",
    "    result2 += prob2\n",
    "    #print(prob1)\n",
    "    #print(prob2)\n",
    "    #shuf_prob = story_compatability_3(shuf_story)\n",
    "    #print(shuf_prob)\n",
    "print (result1/(len(stories) -1))\n",
    "print (result2/(len(stories) -1))"
   ]
  },
  {
   "cell_type": "code",
   "execution_count": 5,
   "id": "a78e1970-7a5d-4a44-9be2-c2981a2ec1d9",
   "metadata": {
    "execution": {
     "iopub.execute_input": "2022-05-02T12:00:51.544390Z",
     "iopub.status.busy": "2022-05-02T12:00:51.544169Z",
     "iopub.status.idle": "2022-05-02T12:00:51.548691Z",
     "shell.execute_reply": "2022-05-02T12:00:51.547920Z",
     "shell.execute_reply.started": "2022-05-02T12:00:51.544365Z"
    }
   },
   "outputs": [],
   "source": [
    "#print(shuf_story)"
   ]
  },
  {
   "cell_type": "code",
   "execution_count": null,
   "id": "0f56c166-a722-4346-8b5c-c9dfa9e05773",
   "metadata": {},
   "outputs": [],
   "source": [
    "from tqdm import tqdm\n",
    "result1 = 0\n",
    "result2 = 0\n",
    "for story_one in tqdm(stories[:(len(stories) -1)]):\n",
    "    #print(\"Story \", story_one)\n",
    "    #input()\n",
    "    #shuf_story = story_one.copy()\n",
    "    #random.shuffle(shuf_story)\n",
    "    prob1 = story_compatability(story_one)\n",
    "    #if prob1 < 0.1:\n",
    "        #print(\"PROB1 \", story_one, \" \", prob1)\n",
    "    #print(prob)\n",
    "    #shuf_prob = story_compatability(shuf_story)\n",
    "    #print(shuf_prob)\n",
    "    prob2 = story_compatability_3(story_one)\n",
    "    #if prob2 < 0.1:\n",
    "        #print(\"PROB2 \", story_one, \" \", prob2)\n",
    "    result1 += prob1\n",
    "    result2 += prob2\n",
    "    #print(prob1)\n",
    "    #print(prob2)\n",
    "    #shuf_prob = story_compatability_3(shuf_story)\n",
    "    #print(shuf_prob)\n",
    "print (result1/(len(stories) -1))\n",
    "print (result2/(len(stories) -1))"
   ]
  },
  {
   "cell_type": "code",
   "execution_count": null,
   "id": "482d190e-935c-44f6-be00-d1b0082e4612",
   "metadata": {},
   "outputs": [],
   "source": []
  }
 ],
 "metadata": {
  "kernelspec": {
   "display_name": "Python 3 (ipykernel)",
   "language": "python",
   "name": "python3"
  },
  "language_info": {
   "codemirror_mode": {
    "name": "ipython",
    "version": 3
   },
   "file_extension": ".py",
   "mimetype": "text/x-python",
   "name": "python",
   "nbconvert_exporter": "python",
   "pygments_lexer": "ipython3",
   "version": "3.10.4"
  }
 },
 "nbformat": 4,
 "nbformat_minor": 5
}
