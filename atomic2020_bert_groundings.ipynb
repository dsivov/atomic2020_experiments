{
 "cells": [
  {
   "cell_type": "code",
   "execution_count": null,
   "id": "745cb6ef-c987-4998-8db8-1a2fe145de7e",
   "metadata": {},
   "outputs": [],
   "source": [
    "import sys\n",
    "sys.path.insert(0, \"/notebooks/pipenv\")\n",
    "sys.path.insert(0, \"/notebooks/nebula3_database\")\n",
    "sys.path.insert(0, \"/notebooks\")\n",
    "from sentence_transformers import SentenceTransformer, util\n",
    "from nebula3_database.database.milvus import MilvusAPI\n",
    "mfilled = MilvusAPI('milvus', 'atomic_isfilled', 'video_cskg', 768)\n",
    "matloc = MilvusAPI('milvus', 'atomic_atlocation', 'video_cskg', 768)\n",
    "mafter = MilvusAPI('milvus', 'atomic_isafter', 'video_cskg', 768)\n",
    "mbefore= MilvusAPI('milvus', 'atomic_isbefore', 'video_cskg', 768)\n",
    "seq= MilvusAPI('milvus', 'atomic_sequence_rev', 'video_cskg', 768)\n",
    "\n",
    "model = SentenceTransformer('all-mpnet-base-v2')"
   ]
  },
  {
   "cell_type": "code",
   "execution_count": null,
   "id": "c6d8e426-b4fe-4ec6-afae-33c4bd6ed275",
   "metadata": {},
   "outputs": [],
   "source": [
    "import numpy as np"
   ]
  },
  {
   "cell_type": "code",
   "execution_count": null,
   "id": "de3d5162",
   "metadata": {},
   "outputs": [],
   "source": [
    "from nebula3_database.movie_db import MOVIE_DB\n",
    "mdb = MOVIE_DB()\n",
    "mdb.change_db(\"nebula_visualcomet\")"
   ]
  },
  {
   "cell_type": "code",
   "execution_count": null,
   "id": "9427fb01",
   "metadata": {},
   "outputs": [],
   "source": [
    "def get_vc(mdb):\n",
    "        metadata = []\n",
    "        query = 'FOR doc IN vcomet_kg LIMIT 100 RETURN doc'\n",
    "        cursor = mdb.db.aql.execute(query)\n",
    "        for data in cursor:\n",
    "            #print(data)\n",
    "            metadata.append(data)\n",
    "        return(metadata)"
   ]
  },
  {
   "cell_type": "code",
   "execution_count": null,
   "id": "d3c501fe",
   "metadata": {},
   "outputs": [],
   "source": [
    "events = [] \n",
    "vc = get_vc(mdb)\n",
    "for v in vc:\n",
    "    events.append((v['event'], v['place']))\n",
    "print(events)"
   ]
  },
  {
   "cell_type": "code",
   "execution_count": null,
   "id": "23c28031",
   "metadata": {},
   "outputs": [],
   "source": [
    "for event in events:\n",
    "    ev = event[0].replace('1', 'PersonX')\n",
    "    ev = ev.replace('2', 'PersonY')\n",
    "    ev = ev.replace('3', 'PersonZ')\n",
    "\n",
    "    print(\"Event: \", ev)\n",
    "    print(\"Place: \", event[1])\n",
    "    vevent = model.encode(ev)\n",
    "    #vplace = model.encode(ev + event[1])\n",
    "    isfills = mbefore.search_vector(35, vevent.tolist())\n",
    "    for isfill in isfills:\n",
    "        print(isfill[0], \" \", isfill[1]['sentence'])"
   ]
  }
 ],
 "metadata": {
  "kernelspec": {
   "display_name": "Python 3 (ipykernel)",
   "language": "python",
   "name": "python3"
  },
  "language_info": {
   "codemirror_mode": {
    "name": "ipython",
    "version": 3
   },
   "file_extension": ".py",
   "mimetype": "text/x-python",
   "name": "python",
   "nbconvert_exporter": "python",
   "pygments_lexer": "ipython3",
   "version": "3.10.4"
  }
 },
 "nbformat": 4,
 "nbformat_minor": 5
}
